{
  "nbformat": 4,
  "nbformat_minor": 0,
  "metadata": {
    "colab": {
      "provenance": [],
      "authorship_tag": "ABX9TyOAOEeTcon4GJhNd/muQfHF",
      "include_colab_link": true
    },
    "kernelspec": {
      "name": "python3",
      "display_name": "Python 3"
    },
    "language_info": {
      "name": "python"
    }
  },
  "cells": [
    {
      "cell_type": "markdown",
      "metadata": {
        "id": "view-in-github",
        "colab_type": "text"
      },
      "source": [
        "<a href=\"https://colab.research.google.com/github/RiooYusoo/Belajar-Python/blob/main/Python.ipynb\" target=\"_parent\"><img src=\"https://colab.research.google.com/assets/colab-badge.svg\" alt=\"Open In Colab\"/></a>"
      ]
    },
    {
      "cell_type": "markdown",
      "source": [
        "# Variable"
      ],
      "metadata": {
        "id": "04xM57Jl4pft"
      }
    },
    {
      "cell_type": "code",
      "source": [
        "RiooYusoo = \"Rio\""
      ],
      "metadata": {
        "id": "UlD-0lsc4tUf"
      },
      "execution_count": null,
      "outputs": []
    },
    {
      "cell_type": "code",
      "source": [
        "print(RiooYusoo)"
      ],
      "metadata": {
        "colab": {
          "base_uri": "https://localhost:8080/"
        },
        "id": "RJ4LaXzD49Mg",
        "outputId": "9c50a0c9-0ad3-488b-b959-c41c2d555782"
      },
      "execution_count": null,
      "outputs": [
        {
          "output_type": "stream",
          "name": "stdout",
          "text": [
            "Rio\n"
          ]
        }
      ]
    },
    {
      "cell_type": "code",
      "source": [
        "Nama, Umur, Alamat = \"Rio\", \"17\", \"Bali\""
      ],
      "metadata": {
        "id": "VR3okhx65ARO"
      },
      "execution_count": null,
      "outputs": []
    },
    {
      "cell_type": "code",
      "source": [
        "print(Nama)"
      ],
      "metadata": {
        "colab": {
          "base_uri": "https://localhost:8080/"
        },
        "id": "-10WAdW75PBd",
        "outputId": "099c3cb8-d30d-41ed-a0f7-3c2662024aa8"
      },
      "execution_count": null,
      "outputs": [
        {
          "output_type": "stream",
          "name": "stdout",
          "text": [
            "Rio\n"
          ]
        }
      ]
    },
    {
      "cell_type": "code",
      "source": [
        "print(Umur)"
      ],
      "metadata": {
        "colab": {
          "base_uri": "https://localhost:8080/"
        },
        "id": "BxFwdcE25ROW",
        "outputId": "bfd5f06c-a1be-4e1f-8092-66a0cdc63175"
      },
      "execution_count": null,
      "outputs": [
        {
          "output_type": "stream",
          "name": "stdout",
          "text": [
            "17\n"
          ]
        }
      ]
    },
    {
      "cell_type": "code",
      "source": [
        "print(Alamat)"
      ],
      "metadata": {
        "colab": {
          "base_uri": "https://localhost:8080/"
        },
        "id": "xCoq0THE5S01",
        "outputId": "e7bdc97d-4cf4-4903-cd27-4367cb2cf79c"
      },
      "execution_count": null,
      "outputs": [
        {
          "output_type": "stream",
          "name": "stdout",
          "text": [
            "Bali\n"
          ]
        }
      ]
    },
    {
      "cell_type": "code",
      "source": [
        "17Rio = \"RiooYusoo\""
      ],
      "metadata": {
        "colab": {
          "base_uri": "https://localhost:8080/",
          "height": 106
        },
        "id": "IaUCF4zM5ZnN",
        "outputId": "42656aa4-7c2a-4637-c48e-6cc793df9ef0"
      },
      "execution_count": null,
      "outputs": [
        {
          "output_type": "error",
          "ename": "SyntaxError",
          "evalue": "invalid decimal literal (<ipython-input-15-916aabbe272c>, line 1)",
          "traceback": [
            "\u001b[0;36m  File \u001b[0;32m\"<ipython-input-15-916aabbe272c>\"\u001b[0;36m, line \u001b[0;32m1\u001b[0m\n\u001b[0;31m    17Rio = \"RiooYusoo\"\u001b[0m\n\u001b[0m     ^\u001b[0m\n\u001b[0;31mSyntaxError\u001b[0m\u001b[0;31m:\u001b[0m invalid decimal literal\n"
          ]
        }
      ]
    },
    {
      "cell_type": "code",
      "source": [
        "Rio17 = \"RiooYusoo\""
      ],
      "metadata": {
        "id": "yech1xmL5jYN"
      },
      "execution_count": null,
      "outputs": []
    },
    {
      "cell_type": "code",
      "source": [
        "print(Rio17)"
      ],
      "metadata": {
        "colab": {
          "base_uri": "https://localhost:8080/"
        },
        "id": "IK7K2Z585mG9",
        "outputId": "51ef9eb1-14e8-4dde-824c-05431622219c"
      },
      "execution_count": null,
      "outputs": [
        {
          "output_type": "stream",
          "name": "stdout",
          "text": [
            "RiooYusoo\n"
          ]
        }
      ]
    },
    {
      "cell_type": "code",
      "source": [
        "Rio,Yuso = \"RiooYusoo\""
      ],
      "metadata": {
        "colab": {
          "base_uri": "https://localhost:8080/",
          "height": 141
        },
        "id": "uJ-kCOi75pIn",
        "outputId": "a1edb9be-239b-45a3-b304-363160756110"
      },
      "execution_count": null,
      "outputs": [
        {
          "output_type": "error",
          "ename": "ValueError",
          "evalue": "too many values to unpack (expected 2)",
          "traceback": [
            "\u001b[0;31m---------------------------------------------------------------------------\u001b[0m",
            "\u001b[0;31mValueError\u001b[0m                                Traceback (most recent call last)",
            "\u001b[0;32m<ipython-input-18-0af4b86d99c8>\u001b[0m in \u001b[0;36m<cell line: 0>\u001b[0;34m()\u001b[0m\n\u001b[0;32m----> 1\u001b[0;31m \u001b[0mRio\u001b[0m\u001b[0;34m,\u001b[0m\u001b[0mYuso\u001b[0m \u001b[0;34m=\u001b[0m \u001b[0;34m\"RiooYusoo\"\u001b[0m\u001b[0;34m\u001b[0m\u001b[0;34m\u001b[0m\u001b[0m\n\u001b[0m",
            "\u001b[0;31mValueError\u001b[0m: too many values to unpack (expected 2)"
          ]
        }
      ]
    },
    {
      "cell_type": "code",
      "source": [
        "RioYuso = \"RiooYusoo\""
      ],
      "metadata": {
        "id": "UoxG2dL35uyU"
      },
      "execution_count": null,
      "outputs": []
    },
    {
      "cell_type": "code",
      "source": [
        "print(RioYuso)"
      ],
      "metadata": {
        "colab": {
          "base_uri": "https://localhost:8080/"
        },
        "id": "sH73ec5g5yVL",
        "outputId": "cc4f86eb-7949-4b97-9145-ff27ed2fe3ad"
      },
      "execution_count": null,
      "outputs": [
        {
          "output_type": "stream",
          "name": "stdout",
          "text": [
            "RiooYusoo\n"
          ]
        }
      ]
    },
    {
      "cell_type": "code",
      "source": [
        "RioYuso = 2"
      ],
      "metadata": {
        "id": "6Xm_lDUd50YT"
      },
      "execution_count": null,
      "outputs": []
    },
    {
      "cell_type": "code",
      "source": [
        "print(RioYuso)"
      ],
      "metadata": {
        "colab": {
          "base_uri": "https://localhost:8080/"
        },
        "id": "E3DIjW-g6dRp",
        "outputId": "a4f1d5c7-5052-49f9-f65d-a43f7b4fa473"
      },
      "execution_count": null,
      "outputs": [
        {
          "output_type": "stream",
          "name": "stdout",
          "text": [
            "2\n"
          ]
        }
      ]
    },
    {
      "cell_type": "code",
      "source": [
        "print(type(RioYuso))"
      ],
      "metadata": {
        "colab": {
          "base_uri": "https://localhost:8080/"
        },
        "id": "okRGLxgJA--6",
        "outputId": "1413902d-adab-4102-8e66-8d5af086cf18"
      },
      "execution_count": null,
      "outputs": [
        {
          "output_type": "stream",
          "name": "stdout",
          "text": [
            "<class 'int'>\n"
          ]
        }
      ]
    },
    {
      "cell_type": "code",
      "source": [
        "\"\"\"\n",
        "Kesimpulan pembelajaran\n",
        "tentang variable di python\n",
        "\"\"\"\n",
        "# Ini cara membuat variable (pastikan tidak ada simbol khusus seperti spasi dll dan nomor tidak boleh ditaruh di depan)\n",
        "Rio = \"RiooYusoo\"\n",
        "\n",
        "# ini cara mencetak nilai dari variable\n",
        "print(Rio)\n",
        "\n",
        "# Ini cara mengecek tipe nilai pada variable apakah dia tipe string atau number\n",
        "print(type(Rio))\n",
        "\n",
        "# Ini cara membuat variable berturut-turut\n",
        "nama, umur, alamat = \"RiooYusoo\", \"17\", \"Bali\"\n",
        "\n",
        "# Ini cara mencetak nilai pada variable berturut-turut\n",
        "print(nama)\n",
        "print(umur)\n",
        "print(alamat)"
      ],
      "metadata": {
        "id": "DAmTqXSbBETc"
      },
      "execution_count": null,
      "outputs": []
    },
    {
      "cell_type": "markdown",
      "source": [
        "# Tipe Data"
      ],
      "metadata": {
        "id": "6iNkf76QEMIc"
      }
    },
    {
      "cell_type": "code",
      "source": [
        "\"\"\"\n",
        "Tipe data ada 6 macam yaitu :\n",
        "Integer\n",
        "Float\n",
        "Boolean\n",
        "String\n",
        "List\n",
        "Tuple\n",
        "Set\n",
        "Dictionary\n",
        "\"\"\"\n",
        "# 1. Integer\n",
        "  Type data Integer adalah bilangan bulat, seperti -3, -2, -1, 0, 1 ,2 ,3\n",
        "    Cara mencari tahu :\n",
        "      data = 8\n",
        "      print(type(data))\n",
        "      maka muncul <class 'int'>\n",
        "        dimana int adalah tipe data integer\n",
        "\n",
        "# 2. Float\n",
        "  Type data Float adalah bilangan desimal, seperti 1.0, 2.2, 3.3, 0.5 dst\n",
        "    Cara mencari tahu :\n",
        "      data = 8.0\n",
        "      print(type(data))\n",
        "      maka muncul <class 'float'>\n",
        "        dimana float adalah tipe data float\n",
        "\n",
        "# 3. Boolean\n",
        "  Type data Boolean adalah tipe data yang hanya memiliki dua nilai\n",
        "  yaitu : True dan False\n",
        "    Cara mencari tahu :\n",
        "      data = True\n",
        "      data2 = False\n",
        "      print(type(data))\n",
        "      maka muncul <class 'bool'>\n",
        "        dimana bool adalah tipe data boolean\n",
        "\n",
        "# 4. String\n",
        "  Type data String adalah kumpulan karakter\n",
        "    \"\"--> kutip\n",
        "      Cara mencari tahu :\n",
        "        data = \"Halo\"\n",
        "        print(type(data))\n",
        "        maka muncul <class 'str'>\n",
        "          dimana str adalah tipe data string\n",
        "\n",
        "# 5. List\n",
        "  Type data List adalah kumpulan data atau element yang dapat diubah/modifikasi\n",
        "    Format : [element1, element2, dst]\n",
        "      Cara mencari tahu :\n",
        "        data = [\"Rio\", \"Yuso\", \"RioYuso\"]\n",
        "        print(type(data))\n",
        "        maka muncul <class 'list'>\n",
        "          dimana list adalah tipe data list\n",
        "\n",
        "# 6. Tuple\n",
        "  Type data Tuple adalah kumpulan data atau element yang tidak dapat diubah/modifikasi\n",
        "    Format : (element1, element2, dst)\n",
        "      Cara mencari tahu :\n",
        "        data = (\"Rio\", \"Yuso\", \"RioYuso\")\n",
        "        print(type(data))\n",
        "        maka muncul <class 'tuple'>\n",
        "          dimana tuple adalah tipe data tuple\n",
        "\n",
        "# 7. Set\n",
        "  Type data Set adalah kumpulan data atau element yang pasti unik dan tidak berurutan\n",
        "    Format : {element1, element2, dst}\n",
        "      Cara mencari tahu :\n",
        "        data = {1,4,4,2,3}\n",
        "        print(data)\n",
        "        {1,2,3,4}\n",
        "        {1,4,2,3}\n",
        "        print(type(data))\n",
        "        maka muncul <class 'set'>\n",
        "          dimana set adalah tipe data set\n",
        "\n",
        "# 8. Dictionary\n",
        "  Type data Dictionary adalah kumpulan pasangan key-value/kunci-nilai\n",
        "    Format : {key1:value1, key2:value2, dst}\n",
        "      Cara mencari tahu :\n",
        "        data_dic = {\"eat\": \"makan\", \"drink\": \"minum\", \"sad\": \"sedih\"}\n",
        "        print(data_dic)\n",
        "        maka muncul {'eat': 'makan', 'drink': 'minum', \"sad\": \"sedih\"}\n",
        "        print(type(data_dic))\n",
        "        maka muncul <class 'dict'>\n",
        "          dimana dict adalah tipe data dictionary\n",
        "\n",
        "# Perbedaan List dan Tuple\n",
        "  Perbedaannya ada pada penulisan formatnya\n",
        "    [kurung siku] <-- List(bisa diubah)\n",
        "    (kurung bulat) <-- Tuple(tidak bisa diubah)\n"
      ],
      "metadata": {
        "id": "vh6uRdvvEO-R"
      },
      "execution_count": null,
      "outputs": []
    },
    {
      "cell_type": "code",
      "source": [],
      "metadata": {
        "id": "oAgluN6JMRvB"
      },
      "execution_count": null,
      "outputs": []
    },
    {
      "cell_type": "markdown",
      "source": [
        "# Praktek Type Data"
      ],
      "metadata": {
        "id": "oC73LIVuRV21"
      }
    },
    {
      "cell_type": "code",
      "source": [
        "# Type Data Integer\n",
        "data = 7\n",
        "\n",
        "print(data)\n",
        "print(type(data))"
      ],
      "metadata": {
        "colab": {
          "base_uri": "https://localhost:8080/"
        },
        "id": "NJ-uFTYyReNZ",
        "outputId": "02ae2575-33d7-4db0-cb19-7923762b0a12"
      },
      "execution_count": null,
      "outputs": [
        {
          "output_type": "stream",
          "name": "stdout",
          "text": [
            "7\n",
            "<class 'int'>\n"
          ]
        }
      ]
    },
    {
      "cell_type": "code",
      "source": [
        "# Type Data Float\n",
        "data = 5.3\n",
        "\n",
        "print(data)\n",
        "print(type(data))"
      ],
      "metadata": {
        "colab": {
          "base_uri": "https://localhost:8080/"
        },
        "id": "AiTzaW1zR7b-",
        "outputId": "35e0a753-7a71-416b-e275-663c1f7f01f4"
      },
      "execution_count": null,
      "outputs": [
        {
          "output_type": "stream",
          "name": "stdout",
          "text": [
            "5.3\n",
            "<class 'float'>\n"
          ]
        }
      ]
    },
    {
      "cell_type": "code",
      "source": [
        "# Type Data Boolean\n",
        "data1 = True\n",
        "data2 = False\n",
        "\n",
        "print(data1)\n",
        "print(data2)\n",
        "print(type(data1))\n",
        "print(type(data2))"
      ],
      "metadata": {
        "colab": {
          "base_uri": "https://localhost:8080/"
        },
        "id": "F3OYJX1nSHBm",
        "outputId": "06411300-74fc-46b6-a789-94caf4ae5034"
      },
      "execution_count": null,
      "outputs": [
        {
          "output_type": "stream",
          "name": "stdout",
          "text": [
            "True\n",
            "False\n",
            "<class 'bool'>\n",
            "<class 'bool'>\n"
          ]
        }
      ]
    },
    {
      "cell_type": "code",
      "source": [
        "# Type Data List\n",
        "data = [\"rio\", \"yuso\", \"rio yuso\"]\n",
        "\n",
        "print(data)\n",
        "print(type(data))"
      ],
      "metadata": {
        "colab": {
          "base_uri": "https://localhost:8080/"
        },
        "id": "qHwA9fyNSeJ1",
        "outputId": "9f059303-03f5-4027-e791-1b3f0642b195"
      },
      "execution_count": null,
      "outputs": [
        {
          "output_type": "stream",
          "name": "stdout",
          "text": [
            "['rio', 'yuso', 'rio yuso']\n",
            "<class 'list'>\n"
          ]
        }
      ]
    },
    {
      "cell_type": "code",
      "source": [
        "# Type Data Tuple\n",
        "data = (\"rio\", \"yuso\", \"rio yuso\")\n",
        "\n",
        "print(data)\n",
        "print(type(data))"
      ],
      "metadata": {
        "colab": {
          "base_uri": "https://localhost:8080/"
        },
        "id": "6M6-B0oYTDjj",
        "outputId": "51ecc4fe-7123-4723-fdbe-c0d4ec201819"
      },
      "execution_count": null,
      "outputs": [
        {
          "output_type": "stream",
          "name": "stdout",
          "text": [
            "('rio', 'yuso', 'rio yuso')\n",
            "<class 'tuple'>\n"
          ]
        }
      ]
    },
    {
      "cell_type": "code",
      "source": [
        "# Type Data String\n",
        "data = \"RiooYusoo\"\n",
        "\n",
        "print(data)\n",
        "print(type(data))"
      ],
      "metadata": {
        "colab": {
          "base_uri": "https://localhost:8080/"
        },
        "id": "AsLksKqDTSo6",
        "outputId": "ed198d1a-5b5d-4ad6-fce7-cecf49e67b3c"
      },
      "execution_count": null,
      "outputs": [
        {
          "output_type": "stream",
          "name": "stdout",
          "text": [
            "RiooYusoo\n",
            "<class 'str'>\n"
          ]
        }
      ]
    },
    {
      "cell_type": "code",
      "source": [
        "# Type Data Set\n",
        "data = {1, 4, 4, 4, 4, 3, 3, 2, 1}\n",
        "\n",
        "print(data)\n",
        "print(type(data))"
      ],
      "metadata": {
        "colab": {
          "base_uri": "https://localhost:8080/"
        },
        "id": "KSXLCB9nTeFx",
        "outputId": "ff0919e0-afff-48a9-889b-465d3dcedf50"
      },
      "execution_count": null,
      "outputs": [
        {
          "output_type": "stream",
          "name": "stdout",
          "text": [
            "{1, 2, 3, 4}\n",
            "<class 'set'>\n"
          ]
        }
      ]
    },
    {
      "cell_type": "code",
      "source": [
        "# Type Data Dictionary\n",
        "datadic = {\"eat\": \"makan\", \"scream\": \"teriak\", \"Rioo\": \"Yusoo\"}\n",
        "\n",
        "print(datadic)\n",
        "print(type(datadic))"
      ],
      "metadata": {
        "colab": {
          "base_uri": "https://localhost:8080/"
        },
        "id": "wQQ2o2wKTrW5",
        "outputId": "fb808d92-1d19-4911-f23e-8d060e1f35f2"
      },
      "execution_count": null,
      "outputs": [
        {
          "output_type": "stream",
          "name": "stdout",
          "text": [
            "{'eat': 'makan', 'scream': 'teriak', 'Rioo': 'Yusoo'}\n",
            "<class 'dict'>\n"
          ]
        }
      ]
    },
    {
      "cell_type": "markdown",
      "source": [
        "# Casting Type Data"
      ],
      "metadata": {
        "id": "Ud_8GDlL8cqO"
      }
    },
    {
      "cell_type": "code",
      "source": [
        "# To Inter\n",
        "dataL = 20.4\n",
        "dataB1 = True\n",
        "dataB2 = False\n",
        "\n",
        "data_int1 = int(dataL)\n",
        "data_int2 = int(dataB1)\n",
        "data_int3 = int(dataB2)\n",
        "\n",
        "print(dataL, type(dataL))\n",
        "print(data_int1, type(data_int1))\n",
        "print(dataB1, type(dataB1))\n",
        "print(data_int2, type(data_int2))\n",
        "print(dataB2, type(dataB2))\n",
        "print(data_int3, type(data_int3))"
      ],
      "metadata": {
        "id": "TdMvIR7dUILg",
        "colab": {
          "base_uri": "https://localhost:8080/"
        },
        "outputId": "a13307dd-95e3-41dc-de69-7908e4e4a5bc"
      },
      "execution_count": null,
      "outputs": [
        {
          "output_type": "stream",
          "name": "stdout",
          "text": [
            "20.4 <class 'float'>\n",
            "20 <class 'int'>\n",
            "True <class 'bool'>\n",
            "1 <class 'int'>\n",
            "False <class 'bool'>\n",
            "0 <class 'int'>\n"
          ]
        }
      ]
    },
    {
      "cell_type": "code",
      "source": [
        "# To Float\n",
        "dataI = 5\n",
        "dataB1 = True\n",
        "dataB2 = False\n",
        "\n",
        "data_float1 = float(dataI)\n",
        "data_float2 = float(dataB1)\n",
        "data_float3 = float(dataB2)\n",
        "\n",
        "print(dataI, type(dataI))\n",
        "print(data_float1, type(data_float1))\n",
        "print(dataB1, type(dataB1))\n",
        "print(data_float2, type(data_float2))\n",
        "print(dataB2, type(dataB2))\n",
        "print(data_float3, type(data_float3))"
      ],
      "metadata": {
        "colab": {
          "base_uri": "https://localhost:8080/"
        },
        "id": "jQimhnKM8VuZ",
        "outputId": "26ea3d9d-3514-4501-b9d2-e818fe5a657e"
      },
      "execution_count": null,
      "outputs": [
        {
          "output_type": "stream",
          "name": "stdout",
          "text": [
            "5 <class 'int'>\n",
            "5.0 <class 'float'>\n",
            "True <class 'bool'>\n",
            "1.0 <class 'float'>\n",
            "False <class 'bool'>\n",
            "0.0 <class 'float'>\n"
          ]
        }
      ]
    },
    {
      "cell_type": "code",
      "source": [
        "# To Boolean\n",
        "dataI = 5\n",
        "dataF = 0.0\n",
        "dataS1 = \"Rio\"\n",
        "dataS2 = \"\"\n",
        "\n",
        "data_bool1 = bool(dataI)\n",
        "data_bool2 = bool(dataF)\n",
        "data_bool3 = bool(dataS1)\n",
        "data_bool4 = bool(dataS2)\n",
        "\n",
        "print(dataI, type(dataI))\n",
        "print(data_bool1, type(data_bool1))\n",
        "print(dataF, type(dataF))\n",
        "print(data_bool2, type(data_bool2))\n",
        "print(dataS1, type(dataS1))\n",
        "print(data_bool3, type(data_bool3))\n",
        "print(dataS2, type(dataS2))\n",
        "print(data_bool4, type(data_bool4))"
      ],
      "metadata": {
        "colab": {
          "base_uri": "https://localhost:8080/"
        },
        "id": "uDIFVE6XI6ba",
        "outputId": "e873ccd0-1a26-4ffb-a9b0-210a1b071ebf"
      },
      "execution_count": null,
      "outputs": [
        {
          "output_type": "stream",
          "name": "stdout",
          "text": [
            "5 <class 'int'>\n",
            "True <class 'bool'>\n",
            "0.0 <class 'float'>\n",
            "False <class 'bool'>\n",
            "Rio <class 'str'>\n",
            "True <class 'bool'>\n",
            " <class 'str'>\n",
            "False <class 'bool'>\n"
          ]
        }
      ]
    },
    {
      "cell_type": "code",
      "source": [
        "# To String\n",
        "dataI = 5\n",
        "dataF = 4.3\n",
        "dataB = True\n",
        "dataL = ['Rio', 'Yuso', 'RioYuso']\n",
        "\n",
        "data_convert1 = str(dataI)\n",
        "data_convert2 = str(dataF)\n",
        "data_convert3 = str(dataB)\n",
        "data_convert4 = str(dataL)\n",
        "\n",
        "\n",
        "print(dataI, type(dataI))\n",
        "print(data_convert1, type(data_convert1))\n",
        "print(dataF, type(dataF))\n",
        "print(data_convert2, type(data_convert2))\n",
        "print(dataB, type(dataB))\n",
        "print(data_convert3, type(data_convert3))\n",
        "print(dataL, type(dataL))\n",
        "print(data_convert4, type(data_convert4))"
      ],
      "metadata": {
        "colab": {
          "base_uri": "https://localhost:8080/"
        },
        "id": "Z2_fi8ihKCGs",
        "outputId": "d85746cb-72c5-4c7c-db47-76ee8223f92c"
      },
      "execution_count": null,
      "outputs": [
        {
          "output_type": "stream",
          "name": "stdout",
          "text": [
            "5 <class 'int'>\n",
            "5 <class 'str'>\n",
            "4.3 <class 'float'>\n",
            "4.3 <class 'str'>\n",
            "True <class 'bool'>\n",
            "True <class 'str'>\n",
            "['Rio', 'Yuso', 'RioYuso'] <class 'list'>\n",
            "['Rio', 'Yuso', 'RioYuso'] <class 'str'>\n"
          ]
        }
      ]
    },
    {
      "cell_type": "code",
      "source": [
        "dataI, data_convert1"
      ],
      "metadata": {
        "colab": {
          "base_uri": "https://localhost:8080/"
        },
        "id": "9mEd56AeLewH",
        "outputId": "104614d6-576b-4531-f9ab-1b60369aae2b"
      },
      "execution_count": null,
      "outputs": [
        {
          "output_type": "execute_result",
          "data": {
            "text/plain": [
              "(5, '5')"
            ]
          },
          "metadata": {},
          "execution_count": 15
        }
      ]
    },
    {
      "cell_type": "code",
      "source": [
        "dataF, data_convert2"
      ],
      "metadata": {
        "colab": {
          "base_uri": "https://localhost:8080/"
        },
        "id": "SEgpcQCpMTA2",
        "outputId": "9ff7badf-1620-436a-ca54-d52c17bd5e04"
      },
      "execution_count": null,
      "outputs": [
        {
          "output_type": "execute_result",
          "data": {
            "text/plain": [
              "(4.3, '4.3')"
            ]
          },
          "metadata": {},
          "execution_count": 16
        }
      ]
    },
    {
      "cell_type": "code",
      "source": [
        "dataB, data_convert3"
      ],
      "metadata": {
        "colab": {
          "base_uri": "https://localhost:8080/"
        },
        "id": "NmUDWWbYM3FU",
        "outputId": "16a2d953-1d94-46b1-827b-07848309ee22"
      },
      "execution_count": null,
      "outputs": [
        {
          "output_type": "execute_result",
          "data": {
            "text/plain": [
              "(True, 'True')"
            ]
          },
          "metadata": {},
          "execution_count": 17
        }
      ]
    },
    {
      "cell_type": "code",
      "source": [
        "dataL, data_convert4"
      ],
      "metadata": {
        "colab": {
          "base_uri": "https://localhost:8080/"
        },
        "id": "KDI5nx99M6M-",
        "outputId": "b760939f-1338-4ff2-d378-b943fa933571"
      },
      "execution_count": null,
      "outputs": [
        {
          "output_type": "execute_result",
          "data": {
            "text/plain": [
              "(['Rio', 'Yuso', 'RioYuso'], \"['Rio', 'Yuso', 'RioYuso']\")"
            ]
          },
          "metadata": {},
          "execution_count": 18
        }
      ]
    },
    {
      "cell_type": "code",
      "source": [
        "# To List\n",
        "dataS = \"RiooYusoo\"\n",
        "dataT = (\"Rio\", \"Yuso\", \"RioYuso\")\n",
        "\n",
        "data_convert1 = list(dataS)\n",
        "data_convert2 = list(dataT)\n",
        "\n",
        "print(dataS, type(dataS))\n",
        "print(data_convert1, type(data_convert1))\n",
        "print(dataT, type(dataT))\n",
        "print(data_convert2, type(data_convert2))"
      ],
      "metadata": {
        "colab": {
          "base_uri": "https://localhost:8080/"
        },
        "id": "bUbFwUM8M7M9",
        "outputId": "e70b2351-44b5-42cc-f76b-b97f13c948ff"
      },
      "execution_count": null,
      "outputs": [
        {
          "output_type": "stream",
          "name": "stdout",
          "text": [
            "RiooYusoo <class 'str'>\n",
            "['R', 'i', 'o', 'o', 'Y', 'u', 's', 'o', 'o'] <class 'list'>\n",
            "('Rio', 'Yuso', 'RioYuso') <class 'tuple'>\n",
            "['Rio', 'Yuso', 'RioYuso'] <class 'list'>\n"
          ]
        }
      ]
    },
    {
      "cell_type": "code",
      "source": [
        "# To Dictionary\n",
        "data = [[\"Rio\", \"Yuso\"],\n",
        " [\"satu kosong\", \"sepuluh\"]\n",
        "        ]\n",
        "\n",
        "print(data)\n",
        "print(dict(data))"
      ],
      "metadata": {
        "colab": {
          "base_uri": "https://localhost:8080/"
        },
        "id": "g5cZZzo7OHXu",
        "outputId": "97413780-665b-43eb-a4d1-30f4c7d903b2"
      },
      "execution_count": null,
      "outputs": [
        {
          "output_type": "stream",
          "name": "stdout",
          "text": [
            "[['Rio', 'Yuso'], ['satu kosong', 'sepuluh']]\n",
            "{'Rio': 'Yuso', 'satu kosong': 'sepuluh'}\n"
          ]
        }
      ]
    },
    {
      "cell_type": "code",
      "source": [
        "# To Unzip\n",
        "Key = [\"Rio\", \"Satu kosong\"]\n",
        "Value = [\"Yuso\", \"sepuluh\"]\n",
        "\n",
        "data_dict = dict(zip(Key, Value))"
      ],
      "metadata": {
        "id": "RMlJzBLEP3JV"
      },
      "execution_count": null,
      "outputs": []
    },
    {
      "cell_type": "code",
      "source": [
        "data_dict"
      ],
      "metadata": {
        "colab": {
          "base_uri": "https://localhost:8080/"
        },
        "id": "Ky5tlu3JRyrw",
        "outputId": "258023b4-291e-43c9-c015-54e3fd569ac8"
      },
      "execution_count": null,
      "outputs": [
        {
          "output_type": "execute_result",
          "data": {
            "text/plain": [
              "{'Rio': 'Yuso', 'Satu kosong': 'sepuluh'}"
            ]
          },
          "metadata": {},
          "execution_count": 38
        }
      ]
    },
    {
      "cell_type": "markdown",
      "source": [
        "# Aritmatika"
      ],
      "metadata": {
        "id": "c2Ksq9S8urCV"
      }
    },
    {
      "cell_type": "code",
      "source": [
        "# Penjumlahan\n",
        "penjumlahan = 1 + 4\n",
        "print(penjumlahan)"
      ],
      "metadata": {
        "colab": {
          "base_uri": "https://localhost:8080/"
        },
        "id": "NNb5ZN4yuuTD",
        "outputId": "5d038017-7e6d-466a-a520-001441a3b1a6"
      },
      "execution_count": null,
      "outputs": [
        {
          "output_type": "stream",
          "name": "stdout",
          "text": [
            "5\n"
          ]
        }
      ]
    },
    {
      "cell_type": "code",
      "source": [
        "# Pengurangan\n",
        "pengurangan = 5 - 2\n",
        "print(pengurangan)"
      ],
      "metadata": {
        "colab": {
          "base_uri": "https://localhost:8080/"
        },
        "id": "ZHMoEz8_u6k9",
        "outputId": "a52ed4db-c062-49f9-f624-b823460d3c86"
      },
      "execution_count": null,
      "outputs": [
        {
          "output_type": "stream",
          "name": "stdout",
          "text": [
            "3\n"
          ]
        }
      ]
    },
    {
      "cell_type": "code",
      "source": [
        "# Perkalian\n",
        "perkalian = 5 * 4\n",
        "print(perkalian)"
      ],
      "metadata": {
        "colab": {
          "base_uri": "https://localhost:8080/"
        },
        "id": "ULaNqiV0vFaK",
        "outputId": "331e1cc0-e795-428e-ea82-4900bb662094"
      },
      "execution_count": null,
      "outputs": [
        {
          "output_type": "stream",
          "name": "stdout",
          "text": [
            "20\n"
          ]
        }
      ]
    },
    {
      "cell_type": "code",
      "source": [
        "# Pembagian\n",
        "pembagian = 18 / 6\n",
        "print(pembagian)"
      ],
      "metadata": {
        "colab": {
          "base_uri": "https://localhost:8080/"
        },
        "id": "1LsG-ZsdvL78",
        "outputId": "c588b42a-1bb2-4c8c-b9bd-0967f697ac00"
      },
      "execution_count": null,
      "outputs": [
        {
          "output_type": "stream",
          "name": "stdout",
          "text": [
            "3.0\n"
          ]
        }
      ]
    },
    {
      "cell_type": "code",
      "source": [
        "# Perpangkatan\n",
        "perpangkatan = 8 ** 2\n",
        "print(perpangkatan)"
      ],
      "metadata": {
        "colab": {
          "base_uri": "https://localhost:8080/"
        },
        "id": "M08w9wyVvUKy",
        "outputId": "986551e3-0b5c-4d3b-fedd-713e3a48d28d"
      },
      "execution_count": null,
      "outputs": [
        {
          "output_type": "stream",
          "name": "stdout",
          "text": [
            "64\n"
          ]
        }
      ]
    },
    {
      "cell_type": "code",
      "source": [
        "# Pembagian Bulat / Division Floor\n",
        "division_floor = 25 // 7\n",
        "pembagian_bulat = 15 // 6\n",
        "print(division_floor)\n",
        "print(pembagian_bulat)"
      ],
      "metadata": {
        "colab": {
          "base_uri": "https://localhost:8080/"
        },
        "id": "cHUCDT0Bvf5y",
        "outputId": "63abbc55-c6a7-4327-b378-45a7d0323170"
      },
      "execution_count": null,
      "outputs": [
        {
          "output_type": "stream",
          "name": "stdout",
          "text": [
            "3\n",
            "2\n"
          ]
        }
      ]
    },
    {
      "cell_type": "code",
      "source": [
        "# Sisa Bagi / Modulus\n",
        "modulus = 20 % 6\n",
        "sisa_bagi = 14 % 5\n",
        "print(modulus)\n",
        "print(sisa_bagi)"
      ],
      "metadata": {
        "colab": {
          "base_uri": "https://localhost:8080/"
        },
        "id": "7-6qkeWhv22D",
        "outputId": "5f7b53d0-bc71-4c9f-f726-e1dcde3533ae"
      },
      "execution_count": null,
      "outputs": [
        {
          "output_type": "stream",
          "name": "stdout",
          "text": [
            "2\n",
            "4\n"
          ]
        }
      ]
    },
    {
      "cell_type": "markdown",
      "source": [
        "# Operator Perbandingan"
      ],
      "metadata": {
        "id": "gyIglips0pAm"
      }
    },
    {
      "cell_type": "code",
      "source": [
        "# Lebih Dari (>)\n",
        "benar = 5 > 3\n",
        "salah = 4 > 9\n",
        "\n",
        "print(benar)\n",
        "print(salah)"
      ],
      "metadata": {
        "colab": {
          "base_uri": "https://localhost:8080/"
        },
        "id": "h32dYAIswPZy",
        "outputId": "032a9ed0-2a8b-4c0b-8353-7f2d7820e492"
      },
      "execution_count": null,
      "outputs": [
        {
          "output_type": "stream",
          "name": "stdout",
          "text": [
            "True\n",
            "False\n"
          ]
        }
      ]
    },
    {
      "cell_type": "code",
      "source": [
        "# Kurang Dari (<)\n",
        "benar = 8 < 10\n",
        "salah = 6 < 3\n",
        "\n",
        "print(benar)\n",
        "print(salah)"
      ],
      "metadata": {
        "colab": {
          "base_uri": "https://localhost:8080/"
        },
        "id": "hUdLCWfj1FqQ",
        "outputId": "f05d83b6-77bf-4420-984d-b27d6451175d"
      },
      "execution_count": null,
      "outputs": [
        {
          "output_type": "stream",
          "name": "stdout",
          "text": [
            "True\n",
            "False\n"
          ]
        }
      ]
    },
    {
      "cell_type": "code",
      "source": [
        "# Sama atau Lebih Dari (>=)\n",
        "benar = 10 >= 7\n",
        "salah = 8 >= 9\n",
        "\n",
        "print(benar)\n",
        "print(salah)"
      ],
      "metadata": {
        "colab": {
          "base_uri": "https://localhost:8080/"
        },
        "id": "7fkviRlu1cLw",
        "outputId": "4f70b58d-74c7-40eb-9aba-7b252ccb4e00"
      },
      "execution_count": null,
      "outputs": [
        {
          "output_type": "stream",
          "name": "stdout",
          "text": [
            "True\n",
            "False\n"
          ]
        }
      ]
    },
    {
      "cell_type": "code",
      "source": [
        "# Sama atau Kurang Dari (<=)\n",
        "benar = 24 <= 30\n",
        "salah = 3 <= 1\n",
        "\n",
        "print(benar)\n",
        "print(salah)"
      ],
      "metadata": {
        "colab": {
          "base_uri": "https://localhost:8080/"
        },
        "id": "tW_lLMJY12L0",
        "outputId": "c036fee7-6976-470c-d8c3-671ab47929ea"
      },
      "execution_count": null,
      "outputs": [
        {
          "output_type": "stream",
          "name": "stdout",
          "text": [
            "True\n",
            "False\n"
          ]
        }
      ]
    },
    {
      "cell_type": "code",
      "source": [
        "# Sama Dengan (==)\n",
        "a = 15\n",
        "b = 15.0\n",
        "\n",
        "print(a == b)\n",
        "\n",
        "print(type(a))\n",
        "print(type(b))\n",
        "\n",
        "\n",
        "# dan\n",
        "dan = \"dan\"\n",
        "print(dan)\n",
        "\n",
        "\n",
        "a = [1, 9]\n",
        "b = [1, 9]\n",
        "\n",
        "print(a == b)\n",
        "\n",
        "print(id(a))\n",
        "print(id(b))"
      ],
      "metadata": {
        "colab": {
          "base_uri": "https://localhost:8080/"
        },
        "id": "JzXOEJkO2Mf-",
        "outputId": "19aefc0e-4a2b-4075-ebbc-c44fef4e4cab"
      },
      "execution_count": null,
      "outputs": [
        {
          "output_type": "stream",
          "name": "stdout",
          "text": [
            "True\n",
            "<class 'int'>\n",
            "<class 'float'>\n",
            "dan\n",
            "True\n",
            "135081688175040\n",
            "135081688187520\n"
          ]
        }
      ]
    },
    {
      "cell_type": "code",
      "source": [
        "# Sama dengan (Is)\n",
        "a = [2, 4]\n",
        "b = a\n",
        "\n",
        "print(a is b)\n",
        "\n",
        "print(id(a))\n",
        "print(id(b))"
      ],
      "metadata": {
        "colab": {
          "base_uri": "https://localhost:8080/"
        },
        "id": "3WAxiHEr2rAD",
        "outputId": "27eec3f1-e611-4573-b0d3-4ada3cecade1"
      },
      "execution_count": null,
      "outputs": [
        {
          "output_type": "stream",
          "name": "stdout",
          "text": [
            "True\n",
            "135081686664256\n",
            "135081686664256\n"
          ]
        }
      ]
    },
    {
      "cell_type": "code",
      "source": [
        "# Tidak Sama Dengan (!=)\n",
        "benar = 14 != 15\n",
        "salah = 17 != 17\n",
        "\n",
        "print(benar)\n",
        "print(salah)"
      ],
      "metadata": {
        "colab": {
          "base_uri": "https://localhost:8080/"
        },
        "id": "Tlg44gVJ3ijz",
        "outputId": "376efd56-e69d-4548-8b2e-4fd6a9451922"
      },
      "execution_count": null,
      "outputs": [
        {
          "output_type": "stream",
          "name": "stdout",
          "text": [
            "True\n",
            "False\n"
          ]
        }
      ]
    },
    {
      "cell_type": "markdown",
      "source": [
        "# Operator Logika"
      ],
      "metadata": {
        "id": "lBw66Obtx4q7"
      }
    },
    {
      "cell_type": "code",
      "source": [
        "# Opertator Not\n",
        "input = True\n",
        "hasil = not input\n",
        "\n",
        "print(hasil)"
      ],
      "metadata": {
        "colab": {
          "base_uri": "https://localhost:8080/"
        },
        "id": "tUgVWhJDx7qQ",
        "outputId": "14db0c19-bc9c-402c-ac68-aaa52aa4e006"
      },
      "execution_count": 1,
      "outputs": [
        {
          "output_type": "stream",
          "name": "stdout",
          "text": [
            "False\n"
          ]
        }
      ]
    },
    {
      "cell_type": "code",
      "source": [
        "# Operator Or\n",
        "input_a = False\n",
        "input_b = False\n",
        "input_c = True\n",
        "hasil = input_a or input_b or input_c\n",
        "\n",
        "print(hasil)"
      ],
      "metadata": {
        "colab": {
          "base_uri": "https://localhost:8080/"
        },
        "id": "LjOqYl8rySVZ",
        "outputId": "b5651361-35f8-43f5-aa5e-e11eed0389ff"
      },
      "execution_count": 2,
      "outputs": [
        {
          "output_type": "stream",
          "name": "stdout",
          "text": [
            "True\n"
          ]
        }
      ]
    },
    {
      "cell_type": "code",
      "source": [
        "# Operator And\n",
        "input_a = True\n",
        "input_b = True\n",
        "input_c = False\n",
        "hasil = input_a and input_b and input_c\n",
        "\n",
        "print(hasil)"
      ],
      "metadata": {
        "colab": {
          "base_uri": "https://localhost:8080/"
        },
        "id": "d51_TIgxyyCI",
        "outputId": "555679dc-e44a-4736-e61d-5acf4a3d527c"
      },
      "execution_count": 3,
      "outputs": [
        {
          "output_type": "stream",
          "name": "stdout",
          "text": [
            "False\n"
          ]
        }
      ]
    },
    {
      "cell_type": "code",
      "source": [
        "# Operator XOR\n",
        "input_a = True\n",
        "input_b = True\n",
        "hasil = input_a ^ input_b\n",
        "\n",
        "print(hasil)"
      ],
      "metadata": {
        "colab": {
          "base_uri": "https://localhost:8080/"
        },
        "id": "Ybq1jDzbzIGM",
        "outputId": "847bea94-494b-4940-e45a-6df8a2dc0e79"
      },
      "execution_count": 4,
      "outputs": [
        {
          "output_type": "stream",
          "name": "stdout",
          "text": [
            "False\n"
          ]
        }
      ]
    },
    {
      "cell_type": "code",
      "source": [
        "input_a = False\n",
        "input_b = False\n",
        "hasil = input_a ^ input_b\n",
        "\n",
        "print(hasil)"
      ],
      "metadata": {
        "colab": {
          "base_uri": "https://localhost:8080/"
        },
        "id": "cock4CUAzp_H",
        "outputId": "2a81188b-0133-44da-c539-4bf6a1513a76"
      },
      "execution_count": 5,
      "outputs": [
        {
          "output_type": "stream",
          "name": "stdout",
          "text": [
            "False\n"
          ]
        }
      ]
    },
    {
      "cell_type": "code",
      "source": [
        "input_a = False\n",
        "input_b = True\n",
        "hasil = input_a ^ input_b\n",
        "\n",
        "print(hasil)"
      ],
      "metadata": {
        "colab": {
          "base_uri": "https://localhost:8080/"
        },
        "id": "eeJGtkhvz2iD",
        "outputId": "e81bb741-f479-4ea7-84c5-f82e58ec35a0"
      },
      "execution_count": 6,
      "outputs": [
        {
          "output_type": "stream",
          "name": "stdout",
          "text": [
            "True\n"
          ]
        }
      ]
    },
    {
      "cell_type": "code",
      "source": [],
      "metadata": {
        "id": "49W1vTynz7oj"
      },
      "execution_count": null,
      "outputs": []
    }
  ]
}