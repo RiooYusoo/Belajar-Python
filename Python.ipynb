{
  "nbformat": 4,
  "nbformat_minor": 0,
  "metadata": {
    "colab": {
      "provenance": [],
      "authorship_tag": "ABX9TyPaUjfBg+YiCxRnJABcasP5",
      "include_colab_link": true
    },
    "kernelspec": {
      "name": "python3",
      "display_name": "Python 3"
    },
    "language_info": {
      "name": "python"
    }
  },
  "cells": [
    {
      "cell_type": "markdown",
      "metadata": {
        "id": "view-in-github",
        "colab_type": "text"
      },
      "source": [
        "<a href=\"https://colab.research.google.com/github/RiooYusoo/Belajar-Python/blob/main/Python.ipynb\" target=\"_parent\"><img src=\"https://colab.research.google.com/assets/colab-badge.svg\" alt=\"Open In Colab\"/></a>"
      ]
    },
    {
      "cell_type": "code",
      "source": [
        "# prompt: Python\n",
        "\n",
        "print('Hello World')"
      ],
      "metadata": {
        "id": "qKshL6Qc4Wuh"
      },
      "execution_count": null,
      "outputs": []
    },
    {
      "cell_type": "markdown",
      "source": [
        "# Variable"
      ],
      "metadata": {
        "id": "04xM57Jl4pft"
      }
    },
    {
      "cell_type": "code",
      "source": [
        "RiooYusoo = \"Rio\""
      ],
      "metadata": {
        "id": "UlD-0lsc4tUf"
      },
      "execution_count": 23,
      "outputs": []
    },
    {
      "cell_type": "code",
      "source": [
        "print(RiooYusoo)"
      ],
      "metadata": {
        "colab": {
          "base_uri": "https://localhost:8080/"
        },
        "id": "RJ4LaXzD49Mg",
        "outputId": "9c50a0c9-0ad3-488b-b959-c41c2d555782"
      },
      "execution_count": 9,
      "outputs": [
        {
          "output_type": "stream",
          "name": "stdout",
          "text": [
            "Rio\n"
          ]
        }
      ]
    },
    {
      "cell_type": "code",
      "source": [
        "Nama, Umur, Alamat = \"Rio\", \"17\", \"Bali\""
      ],
      "metadata": {
        "id": "VR3okhx65ARO"
      },
      "execution_count": 10,
      "outputs": []
    },
    {
      "cell_type": "code",
      "source": [
        "print(Nama)"
      ],
      "metadata": {
        "colab": {
          "base_uri": "https://localhost:8080/"
        },
        "id": "-10WAdW75PBd",
        "outputId": "099c3cb8-d30d-41ed-a0f7-3c2662024aa8"
      },
      "execution_count": 11,
      "outputs": [
        {
          "output_type": "stream",
          "name": "stdout",
          "text": [
            "Rio\n"
          ]
        }
      ]
    },
    {
      "cell_type": "code",
      "source": [
        "print(Umur)"
      ],
      "metadata": {
        "colab": {
          "base_uri": "https://localhost:8080/"
        },
        "id": "BxFwdcE25ROW",
        "outputId": "bfd5f06c-a1be-4e1f-8092-66a0cdc63175"
      },
      "execution_count": 12,
      "outputs": [
        {
          "output_type": "stream",
          "name": "stdout",
          "text": [
            "17\n"
          ]
        }
      ]
    },
    {
      "cell_type": "code",
      "source": [
        "print(Alamat)"
      ],
      "metadata": {
        "colab": {
          "base_uri": "https://localhost:8080/"
        },
        "id": "xCoq0THE5S01",
        "outputId": "e7bdc97d-4cf4-4903-cd27-4367cb2cf79c"
      },
      "execution_count": 13,
      "outputs": [
        {
          "output_type": "stream",
          "name": "stdout",
          "text": [
            "Bali\n"
          ]
        }
      ]
    },
    {
      "cell_type": "code",
      "source": [
        "17Rio = \"RiooYusoo\""
      ],
      "metadata": {
        "colab": {
          "base_uri": "https://localhost:8080/",
          "height": 106
        },
        "id": "IaUCF4zM5ZnN",
        "outputId": "42656aa4-7c2a-4637-c48e-6cc793df9ef0"
      },
      "execution_count": 15,
      "outputs": [
        {
          "output_type": "error",
          "ename": "SyntaxError",
          "evalue": "invalid decimal literal (<ipython-input-15-916aabbe272c>, line 1)",
          "traceback": [
            "\u001b[0;36m  File \u001b[0;32m\"<ipython-input-15-916aabbe272c>\"\u001b[0;36m, line \u001b[0;32m1\u001b[0m\n\u001b[0;31m    17Rio = \"RiooYusoo\"\u001b[0m\n\u001b[0m     ^\u001b[0m\n\u001b[0;31mSyntaxError\u001b[0m\u001b[0;31m:\u001b[0m invalid decimal literal\n"
          ]
        }
      ]
    },
    {
      "cell_type": "code",
      "source": [
        "Rio17 = \"RiooYusoo\""
      ],
      "metadata": {
        "id": "yech1xmL5jYN"
      },
      "execution_count": 16,
      "outputs": []
    },
    {
      "cell_type": "code",
      "source": [
        "print(Rio17)"
      ],
      "metadata": {
        "colab": {
          "base_uri": "https://localhost:8080/"
        },
        "id": "IK7K2Z585mG9",
        "outputId": "51ef9eb1-14e8-4dde-824c-05431622219c"
      },
      "execution_count": 17,
      "outputs": [
        {
          "output_type": "stream",
          "name": "stdout",
          "text": [
            "RiooYusoo\n"
          ]
        }
      ]
    },
    {
      "cell_type": "code",
      "source": [
        "Rio,Yuso = \"RiooYusoo\""
      ],
      "metadata": {
        "colab": {
          "base_uri": "https://localhost:8080/",
          "height": 141
        },
        "id": "uJ-kCOi75pIn",
        "outputId": "a1edb9be-239b-45a3-b304-363160756110"
      },
      "execution_count": 18,
      "outputs": [
        {
          "output_type": "error",
          "ename": "ValueError",
          "evalue": "too many values to unpack (expected 2)",
          "traceback": [
            "\u001b[0;31m---------------------------------------------------------------------------\u001b[0m",
            "\u001b[0;31mValueError\u001b[0m                                Traceback (most recent call last)",
            "\u001b[0;32m<ipython-input-18-0af4b86d99c8>\u001b[0m in \u001b[0;36m<cell line: 0>\u001b[0;34m()\u001b[0m\n\u001b[0;32m----> 1\u001b[0;31m \u001b[0mRio\u001b[0m\u001b[0;34m,\u001b[0m\u001b[0mYuso\u001b[0m \u001b[0;34m=\u001b[0m \u001b[0;34m\"RiooYusoo\"\u001b[0m\u001b[0;34m\u001b[0m\u001b[0;34m\u001b[0m\u001b[0m\n\u001b[0m",
            "\u001b[0;31mValueError\u001b[0m: too many values to unpack (expected 2)"
          ]
        }
      ]
    },
    {
      "cell_type": "code",
      "source": [
        "RioYuso = \"RiooYusoo\""
      ],
      "metadata": {
        "id": "UoxG2dL35uyU"
      },
      "execution_count": 19,
      "outputs": []
    },
    {
      "cell_type": "code",
      "source": [
        "print(RioYuso)"
      ],
      "metadata": {
        "colab": {
          "base_uri": "https://localhost:8080/"
        },
        "id": "sH73ec5g5yVL",
        "outputId": "cc4f86eb-7949-4b97-9145-ff27ed2fe3ad"
      },
      "execution_count": 20,
      "outputs": [
        {
          "output_type": "stream",
          "name": "stdout",
          "text": [
            "RiooYusoo\n"
          ]
        }
      ]
    },
    {
      "cell_type": "code",
      "source": [
        "RioYuso = 2"
      ],
      "metadata": {
        "id": "6Xm_lDUd50YT"
      },
      "execution_count": 21,
      "outputs": []
    },
    {
      "cell_type": "code",
      "source": [
        "print(RioYuso)"
      ],
      "metadata": {
        "colab": {
          "base_uri": "https://localhost:8080/"
        },
        "id": "E3DIjW-g6dRp",
        "outputId": "a4f1d5c7-5052-49f9-f65d-a43f7b4fa473"
      },
      "execution_count": 22,
      "outputs": [
        {
          "output_type": "stream",
          "name": "stdout",
          "text": [
            "2\n"
          ]
        }
      ]
    },
    {
      "cell_type": "code",
      "source": [
        "print(type(RioYuso))"
      ],
      "metadata": {
        "colab": {
          "base_uri": "https://localhost:8080/"
        },
        "id": "okRGLxgJA--6",
        "outputId": "1413902d-adab-4102-8e66-8d5af086cf18"
      },
      "execution_count": 25,
      "outputs": [
        {
          "output_type": "stream",
          "name": "stdout",
          "text": [
            "<class 'int'>\n"
          ]
        }
      ]
    },
    {
      "cell_type": "code",
      "source": [
        "\"\"\"\n",
        "Kesimpulan pembelajaran\n",
        "tentang variable di python\n",
        "\"\"\"\n",
        "# Ini cara membuat variable (pastikan tidak ada simbol khusus seperti spasi dll dan nomor tidak boleh ditaruh di depan)\n",
        "Rio = \"RiooYusoo\"\n",
        "\n",
        "# ini cara mencetak nilai dari variable\n",
        "print(Rio)\n",
        "\n",
        "# Ini cara mengecek tipe nilai pada variable apakah dia tipe string atau number\n",
        "print(type(Rio))\n",
        "\n",
        "# Ini cara membuat variable berturut-turut\n",
        "nama, umur, alamat = \"RiooYusoo\", \"17\", \"Bali\"\n",
        "\n",
        "# Ini cara mencetak nilai pada variable berturut-turut\n",
        "print(nama)\n",
        "print(umur)\n",
        "print(alamat)"
      ],
      "metadata": {
        "id": "DAmTqXSbBETc"
      },
      "execution_count": null,
      "outputs": []
    },
    {
      "cell_type": "markdown",
      "source": [
        "# Tipe Data"
      ],
      "metadata": {
        "id": "6iNkf76QEMIc"
      }
    },
    {
      "cell_type": "code",
      "source": [
        "\"\"\"\n",
        "Tipe data ada 6 macam yaitu :\n",
        "Integer\n",
        "Float\n",
        "Boolean\n",
        "String\n",
        "List\n",
        "Tuple\n",
        "Set\n",
        "Dictionary\n",
        "\"\"\"\n",
        "# 1. Integer\n",
        "  Type data Integer adalah bilangan bulat, seperti -3, -2, -1, 0, 1 ,2 ,3\n",
        "    Cara mencari tahu :\n",
        "      data = 8\n",
        "      print(type(data))\n",
        "      maka muncul <class 'int'>\n",
        "        dimana int adalah tipe data integer\n",
        "\n",
        "# 2. Float\n",
        "  Type data Float adalah bilangan desimal, seperti 1.0, 2.2, 3.3, 0.5 dst\n",
        "    Cara mencari tahu :\n",
        "      data = 8.0\n",
        "      print(type(data))\n",
        "      maka muncul <class 'float'>\n",
        "        dimana float adalah tipe data float\n",
        "\n",
        "# 3. Boolean\n",
        "  Type data Boolean adalah tipe data yang hanya memiliki dua nilai\n",
        "  yaitu : True dan False\n",
        "    Cara mencari tahu :\n",
        "      data = True\n",
        "      data2 = False\n",
        "      print(type(data))\n",
        "      maka muncul <class 'bool'>\n",
        "        dimana bool adalah tipe data boolean\n",
        "\n",
        "# 4. String\n",
        "  Type data String adalah kumpulan karakter\n",
        "    \"\"--> kutip\n",
        "      Cara mencari tahu :\n",
        "        data = \"Halo\"\n",
        "        print(type(data))\n",
        "        maka muncul <class 'str'>\n",
        "          dimana str adalah tipe data string\n",
        "\n",
        "# 5. List\n",
        "  Type data List adalah kumpulan data atau element yang dapat diubah/modifikasi\n",
        "    Format : [element1, element2, dst]\n",
        "      Cara mencari tahu :\n",
        "        data = [\"Rio\", \"Yuso\", \"RioYuso\"]\n",
        "        print(type(data))\n",
        "        maka muncul <class 'list'>\n",
        "          dimana list adalah tipe data list\n",
        "\n",
        "# 6. Tuple\n",
        "  Type data Tuple adalah kumpulan data atau element yang tidak dapat diubah/modifikasi\n",
        "    Format : (element1, element2, dst)\n",
        "      Cara mencari tahu :\n",
        "        data = (\"Rio\", \"Yuso\", \"RioYuso\")\n",
        "        print(type(data))\n",
        "        maka muncul <class 'tuple'>\n",
        "          dimana tuple adalah tipe data tuple\n",
        "\n",
        "# 7. Set\n",
        "  Type data Set adalah kumpulan data atau element yang pasti unik dan tidak berurutan\n",
        "    Format : {element1, element2, dst}\n",
        "      Cara mencari tahu :\n",
        "        data = {1,4,4,2,3}\n",
        "        print(data)\n",
        "        {1,2,3,4}\n",
        "        {1,4,2,3}\n",
        "        print(type(data))\n",
        "        maka muncul <class 'set'>\n",
        "          dimana set adalah tipe data set\n",
        "\n",
        "# 8. Dictionary\n",
        "  Type data Dictionary adalah kumpulan pasangan key-value/kunci-nilai\n",
        "    Format : {key1:value1, key2:value2, dst}\n",
        "      Cara mencari tahu :\n",
        "        data_dic = {\"eat\": \"makan\", \"drink\": \"minum\", \"sad\": \"sedih\"}\n",
        "        print(data_dic)\n",
        "        maka muncul {'eat': 'makan', 'drink': 'minum', \"sad\": \"sedih\"}\n",
        "        print(type(data_dic))\n",
        "        maka muncul <class 'dict'>\n",
        "          dimana dict adalah tipe data dictionary\n",
        "\n",
        "# Perbedaan List dan Tuple\n",
        "  Perbedaannya ada pada penulisan formatnya\n",
        "    [kurung siku] <-- List(bisa diubah)\n",
        "    (kurung bulat) <-- Tuple(tidak bisa diubah)\n"
      ],
      "metadata": {
        "id": "vh6uRdvvEO-R"
      },
      "execution_count": null,
      "outputs": []
    },
    {
      "cell_type": "code",
      "source": [],
      "metadata": {
        "id": "oAgluN6JMRvB"
      },
      "execution_count": null,
      "outputs": []
    }
  ]
}